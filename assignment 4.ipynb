{
  "nbformat": 4,
  "nbformat_minor": 0,
  "metadata": {
    "colab": {
      "provenance": [],
      "authorship_tag": "ABX9TyOos4ckxmvtlAq+tYmbeQyR",
      "include_colab_link": true
    },
    "kernelspec": {
      "name": "python3",
      "display_name": "Python 3"
    },
    "language_info": {
      "name": "python"
    }
  },
  "cells": [
    {
      "cell_type": "markdown",
      "metadata": {
        "id": "view-in-github",
        "colab_type": "text"
      },
      "source": [
        "<a href=\"https://colab.research.google.com/github/2303A52306/sml/blob/main/2303A52306.ipynb\" target=\"_parent\"><img src=\"https://colab.research.google.com/assets/colab-badge.svg\" alt=\"Open In Colab\"/></a>"
      ]
    },
    {
      "cell_type": "code",
      "execution_count": 1,
      "metadata": {
        "id": "cf5ejOp2UlNs"
      },
      "outputs": [],
      "source": [
        "import numpy as np\n",
        "import pandas as pd"
      ]
    },
    {
      "cell_type": "code",
      "source": [
        "d=pd.read_csv('/content/train.csv')"
      ],
      "metadata": {
        "id": "xmKNnhS2VJYE"
      },
      "execution_count": 2,
      "outputs": []
    },
    {
      "cell_type": "code",
      "source": [
        "print(d)"
      ],
      "metadata": {
        "colab": {
          "base_uri": "https://localhost:8080/"
        },
        "id": "bk_MI1WWVXrv",
        "outputId": "3340b3b4-44ee-4ce0-a686-c12f51a163fd"
      },
      "execution_count": 3,
      "outputs": [
        {
          "output_type": "stream",
          "name": "stdout",
          "text": [
            "      battery_power  blue  clock_speed  dual_sim  fc  four_g  int_memory  \\\n",
            "0               842     0          2.2         0   1       0           7   \n",
            "1              1021     1          0.5         1   0       1          53   \n",
            "2               563     1          0.5         1   2       1          41   \n",
            "3               615     1          2.5         0   0       0          10   \n",
            "4              1821     1          1.2         0  13       1          44   \n",
            "...             ...   ...          ...       ...  ..     ...         ...   \n",
            "1995            794     1          0.5         1   0       1           2   \n",
            "1996           1965     1          2.6         1   0       0          39   \n",
            "1997           1911     0          0.9         1   1       1          36   \n",
            "1998           1512     0          0.9         0   4       1          46   \n",
            "1999            510     1          2.0         1   5       1          45   \n",
            "\n",
            "      m_dep  mobile_wt  n_cores  ...  px_height  px_width   ram  sc_h  sc_w  \\\n",
            "0       0.6        188        2  ...         20       756  2549     9     7   \n",
            "1       0.7        136        3  ...        905      1988  2631    17     3   \n",
            "2       0.9        145        5  ...       1263      1716  2603    11     2   \n",
            "3       0.8        131        6  ...       1216      1786  2769    16     8   \n",
            "4       0.6        141        2  ...       1208      1212  1411     8     2   \n",
            "...     ...        ...      ...  ...        ...       ...   ...   ...   ...   \n",
            "1995    0.8        106        6  ...       1222      1890   668    13     4   \n",
            "1996    0.2        187        4  ...        915      1965  2032    11    10   \n",
            "1997    0.7        108        8  ...        868      1632  3057     9     1   \n",
            "1998    0.1        145        5  ...        336       670   869    18    10   \n",
            "1999    0.9        168        6  ...        483       754  3919    19     4   \n",
            "\n",
            "      talk_time  three_g  touch_screen  wifi  price_range  \n",
            "0            19        0             0     1            1  \n",
            "1             7        1             1     0            2  \n",
            "2             9        1             1     0            2  \n",
            "3            11        1             0     0            2  \n",
            "4            15        1             1     0            1  \n",
            "...         ...      ...           ...   ...          ...  \n",
            "1995         19        1             1     0            0  \n",
            "1996         16        1             1     1            2  \n",
            "1997          5        1             1     0            3  \n",
            "1998         19        1             1     1            0  \n",
            "1999          2        1             1     1            3  \n",
            "\n",
            "[2000 rows x 21 columns]\n"
          ]
        }
      ]
    },
    {
      "cell_type": "code",
      "source": [
        "print(d.isnull().sum())"
      ],
      "metadata": {
        "colab": {
          "base_uri": "https://localhost:8080/"
        },
        "id": "kTemaL3MVcBr",
        "outputId": "50c6eecf-d6f5-4cc8-b9ae-fb7938e605e9"
      },
      "execution_count": 4,
      "outputs": [
        {
          "output_type": "stream",
          "name": "stdout",
          "text": [
            "battery_power    0\n",
            "blue             0\n",
            "clock_speed      0\n",
            "dual_sim         0\n",
            "fc               0\n",
            "four_g           0\n",
            "int_memory       0\n",
            "m_dep            0\n",
            "mobile_wt        0\n",
            "n_cores          0\n",
            "pc               0\n",
            "px_height        0\n",
            "px_width         0\n",
            "ram              0\n",
            "sc_h             0\n",
            "sc_w             0\n",
            "talk_time        0\n",
            "three_g          0\n",
            "touch_screen     0\n",
            "wifi             0\n",
            "price_range      0\n",
            "dtype: int64\n"
          ]
        }
      ]
    },
    {
      "cell_type": "code",
      "source": [
        "#d=d.fillna(0)\n",
        "print(d.dtypes)"
      ],
      "metadata": {
        "colab": {
          "base_uri": "https://localhost:8080/"
        },
        "id": "jRNm_4NtVqkG",
        "outputId": "4c558ecf-359c-4aa9-e924-f57cfe2e430c"
      },
      "execution_count": 6,
      "outputs": [
        {
          "output_type": "stream",
          "name": "stdout",
          "text": [
            "battery_power      int64\n",
            "blue               int64\n",
            "clock_speed      float64\n",
            "dual_sim           int64\n",
            "fc                 int64\n",
            "four_g             int64\n",
            "int_memory         int64\n",
            "m_dep            float64\n",
            "mobile_wt          int64\n",
            "n_cores            int64\n",
            "pc                 int64\n",
            "px_height          int64\n",
            "px_width           int64\n",
            "ram                int64\n",
            "sc_h               int64\n",
            "sc_w               int64\n",
            "talk_time          int64\n",
            "three_g            int64\n",
            "touch_screen       int64\n",
            "wifi               int64\n",
            "price_range        int64\n",
            "dtype: object\n"
          ]
        }
      ]
    },
    {
      "cell_type": "code",
      "source": [
        "y=d['price_range']\n"
      ],
      "metadata": {
        "id": "GRwgVLEtV76J"
      },
      "execution_count": 7,
      "outputs": []
    },
    {
      "cell_type": "code",
      "source": [
        "print(y)"
      ],
      "metadata": {
        "colab": {
          "base_uri": "https://localhost:8080/"
        },
        "id": "k-jWbJQ0WGBS",
        "outputId": "93f2a7ee-cda2-465b-fdc6-d1ed8fe08b1c"
      },
      "execution_count": 8,
      "outputs": [
        {
          "output_type": "stream",
          "name": "stdout",
          "text": [
            "0       1\n",
            "1       2\n",
            "2       2\n",
            "3       2\n",
            "4       1\n",
            "       ..\n",
            "1995    0\n",
            "1996    2\n",
            "1997    3\n",
            "1998    0\n",
            "1999    3\n",
            "Name: price_range, Length: 2000, dtype: int64\n"
          ]
        }
      ]
    },
    {
      "cell_type": "code",
      "source": [
        "x=d.drop('price_range',axis=1)"
      ],
      "metadata": {
        "id": "EqQWDcYUWLQ_"
      },
      "execution_count": 11,
      "outputs": []
    },
    {
      "cell_type": "code",
      "source": [
        "print(x)"
      ],
      "metadata": {
        "colab": {
          "base_uri": "https://localhost:8080/"
        },
        "id": "l30Pr1ZGWtDR",
        "outputId": "5cb5a9dd-8590-4b60-cf98-11f13ed68888"
      },
      "execution_count": 12,
      "outputs": [
        {
          "output_type": "stream",
          "name": "stdout",
          "text": [
            "      battery_power  blue  clock_speed  dual_sim  fc  four_g  int_memory  \\\n",
            "0               842     0          2.2         0   1       0           7   \n",
            "1              1021     1          0.5         1   0       1          53   \n",
            "2               563     1          0.5         1   2       1          41   \n",
            "3               615     1          2.5         0   0       0          10   \n",
            "4              1821     1          1.2         0  13       1          44   \n",
            "...             ...   ...          ...       ...  ..     ...         ...   \n",
            "1995            794     1          0.5         1   0       1           2   \n",
            "1996           1965     1          2.6         1   0       0          39   \n",
            "1997           1911     0          0.9         1   1       1          36   \n",
            "1998           1512     0          0.9         0   4       1          46   \n",
            "1999            510     1          2.0         1   5       1          45   \n",
            "\n",
            "      m_dep  mobile_wt  n_cores  pc  px_height  px_width   ram  sc_h  sc_w  \\\n",
            "0       0.6        188        2   2         20       756  2549     9     7   \n",
            "1       0.7        136        3   6        905      1988  2631    17     3   \n",
            "2       0.9        145        5   6       1263      1716  2603    11     2   \n",
            "3       0.8        131        6   9       1216      1786  2769    16     8   \n",
            "4       0.6        141        2  14       1208      1212  1411     8     2   \n",
            "...     ...        ...      ...  ..        ...       ...   ...   ...   ...   \n",
            "1995    0.8        106        6  14       1222      1890   668    13     4   \n",
            "1996    0.2        187        4   3        915      1965  2032    11    10   \n",
            "1997    0.7        108        8   3        868      1632  3057     9     1   \n",
            "1998    0.1        145        5   5        336       670   869    18    10   \n",
            "1999    0.9        168        6  16        483       754  3919    19     4   \n",
            "\n",
            "      talk_time  three_g  touch_screen  wifi  \n",
            "0            19        0             0     1  \n",
            "1             7        1             1     0  \n",
            "2             9        1             1     0  \n",
            "3            11        1             0     0  \n",
            "4            15        1             1     0  \n",
            "...         ...      ...           ...   ...  \n",
            "1995         19        1             1     0  \n",
            "1996         16        1             1     1  \n",
            "1997          5        1             1     0  \n",
            "1998         19        1             1     1  \n",
            "1999          2        1             1     1  \n",
            "\n",
            "[2000 rows x 20 columns]\n"
          ]
        }
      ]
    },
    {
      "cell_type": "code",
      "source": [
        "xx=(x-x.min())/(x.max()-x.min())"
      ],
      "metadata": {
        "id": "3i-zi9JLXl-Z"
      },
      "execution_count": 18,
      "outputs": []
    },
    {
      "cell_type": "code",
      "source": [
        "print(xx)"
      ],
      "metadata": {
        "colab": {
          "base_uri": "https://localhost:8080/"
        },
        "id": "tBOCHxQGXtAP",
        "outputId": "776ffc58-30d3-40b0-98c1-03b7e059bdaf"
      },
      "execution_count": 20,
      "outputs": [
        {
          "output_type": "stream",
          "name": "stdout",
          "text": [
            "      battery_power  blue  clock_speed  dual_sim    fc  four_g  int_memory  \\\n",
            "0        340.749249   0.0     1.533333       0.0   1.0     0.0     4.96875   \n",
            "1        519.749249   1.0    -0.166667       1.0   0.0     1.0    50.96875   \n",
            "2         61.749249   1.0    -0.166667       1.0   2.0     1.0    38.96875   \n",
            "3        113.749249   1.0     1.833333       0.0   0.0     0.0     7.96875   \n",
            "4       1319.749249   1.0     0.533333       0.0  13.0     1.0    41.96875   \n",
            "...             ...   ...          ...       ...   ...     ...         ...   \n",
            "1995     292.749249   1.0    -0.166667       1.0   0.0     1.0    -0.03125   \n",
            "1996    1463.749249   1.0     1.933333       1.0   0.0     0.0    36.96875   \n",
            "1997    1409.749249   0.0     0.233333       1.0   1.0     1.0    33.96875   \n",
            "1998    1010.749249   0.0     0.233333       0.0   4.0     1.0    43.96875   \n",
            "1999       8.749249   1.0     1.333333       1.0   5.0     1.0    42.96875   \n",
            "\n",
            "      m_dep  mobile_wt  n_cores    pc  px_height    px_width          ram  \\\n",
            "0       0.4      107.6    0.875   2.0       20.0   255.74975  2292.935968   \n",
            "1       0.5       55.6    1.875   6.0      905.0  1487.74975  2374.935968   \n",
            "2       0.7       64.6    3.875   6.0     1263.0  1215.74975  2346.935968   \n",
            "3       0.6       50.6    4.875   9.0     1216.0  1285.74975  2512.935968   \n",
            "4       0.4       60.6    0.875  14.0     1208.0   711.74975  1154.935968   \n",
            "...     ...        ...      ...   ...        ...         ...          ...   \n",
            "1995    0.6       25.6    4.875  14.0     1222.0  1389.74975   411.935968   \n",
            "1996    0.0      106.6    2.875   3.0      915.0  1464.74975  1775.935968   \n",
            "1997    0.5       27.6    6.875   3.0      868.0  1131.74975  2800.935968   \n",
            "1998   -0.1       64.6    3.875   5.0      336.0   169.74975   612.935968   \n",
            "1999    0.7       87.6    4.875  16.0      483.0   253.74975  3662.935968   \n",
            "\n",
            "           sc_h  sc_w  talk_time  three_g  touch_screen  wifi  \n",
            "0      3.736842   7.0       16.9      0.0           0.0   1.0  \n",
            "1     11.736842   3.0        4.9      1.0           1.0   0.0  \n",
            "2      5.736842   2.0        6.9      1.0           1.0   0.0  \n",
            "3     10.736842   8.0        8.9      1.0           0.0   0.0  \n",
            "4      2.736842   2.0       12.9      1.0           1.0   0.0  \n",
            "...         ...   ...        ...      ...           ...   ...  \n",
            "1995   7.736842   4.0       16.9      1.0           1.0   0.0  \n",
            "1996   5.736842  10.0       13.9      1.0           1.0   1.0  \n",
            "1997   3.736842   1.0        2.9      1.0           1.0   0.0  \n",
            "1998  12.736842  10.0       16.9      1.0           1.0   1.0  \n",
            "1999  13.736842   4.0       -0.1      1.0           1.0   1.0  \n",
            "\n",
            "[2000 rows x 20 columns]\n"
          ]
        }
      ]
    },
    {
      "cell_type": "code",
      "source": [
        "from sklearn.model_selection import train_test_split"
      ],
      "metadata": {
        "id": "vx9WALE6YIXx"
      },
      "execution_count": 24,
      "outputs": []
    },
    {
      "cell_type": "code",
      "source": [
        "x_train,x_test,y_train,y_test=train_test_split(xx,y,test_size=0.2,random_state=20)"
      ],
      "metadata": {
        "id": "f4r0JQ56Ysoq"
      },
      "execution_count": 27,
      "outputs": []
    },
    {
      "cell_type": "code",
      "source": [
        "print(x_train)"
      ],
      "metadata": {
        "colab": {
          "base_uri": "https://localhost:8080/"
        },
        "id": "MODZI2Gtaj6n",
        "outputId": "6312aa3a-41d2-4611-dd44-f41e172221b5"
      },
      "execution_count": 28,
      "outputs": [
        {
          "output_type": "stream",
          "name": "stdout",
          "text": [
            "      battery_power  blue  clock_speed  dual_sim    fc  four_g  int_memory  \\\n",
            "1500     723.749249   0.0     0.033333       1.0   6.0     0.0    57.96875   \n",
            "451      470.749249   1.0     1.033333       0.0   0.0     1.0    51.96875   \n",
            "1627     363.749249   0.0     2.233333       0.0   5.0     0.0    13.96875   \n",
            "669      221.749249   0.0    -0.166667       0.0   0.0     1.0     0.96875   \n",
            "1567     438.749249   0.0     2.233333       0.0   0.0     0.0    13.96875   \n",
            "...             ...   ...          ...       ...   ...     ...         ...   \n",
            "924     1464.749249   0.0     0.133333       1.0  15.0     1.0    45.96875   \n",
            "1247    1064.749249   1.0    -0.166667       1.0   0.0     0.0    17.96875   \n",
            "271      228.749249   0.0     1.433333       1.0   0.0     1.0     1.96875   \n",
            "474     1466.749249   0.0     0.233333       0.0   0.0     0.0    19.96875   \n",
            "1379     269.749249   0.0     2.233333       0.0   2.0     0.0    59.96875   \n",
            "\n",
            "      m_dep  mobile_wt  n_cores    pc  px_height    px_width          ram  \\\n",
            "1500   -0.1       26.6    0.875  15.0       10.0  1066.74975  2166.935968   \n",
            "451     0.5       26.6    1.875   4.0      681.0   549.74975  1643.935968   \n",
            "1627   -0.1        8.6    2.875  12.0      335.0   508.74975  3237.935968   \n",
            "669     0.0       87.6    2.875   3.0      920.0  1247.74975  1594.935968   \n",
            "1567    0.5       34.6    2.875   1.0      499.0   589.74975  1935.935968   \n",
            "...     ...        ...      ...   ...        ...         ...          ...   \n",
            "924     0.0       63.6   -0.125  16.0     1242.0  1472.74975   995.935968   \n",
            "1247    0.3       45.6    0.875   0.0     1603.0  1429.74975   402.935968   \n",
            "271    -0.1        8.6    6.875   2.0      302.0   746.74975   953.935968   \n",
            "474     0.6       34.6    1.875   7.0      861.0   758.74975  2066.935968   \n",
            "1379    0.5       25.6   -0.125   8.0     1709.0  1280.74975  1371.935968   \n",
            "\n",
            "           sc_h  sc_w  talk_time  three_g  touch_screen  wifi  \n",
            "1500  11.736842  11.0        3.9      1.0           0.0   0.0  \n",
            "451   10.736842   8.0       16.9      1.0           0.0   1.0  \n",
            "1627   7.736842   3.0       11.9      0.0           0.0   1.0  \n",
            "669    9.736842   3.0       13.9      1.0           0.0   0.0  \n",
            "1567   9.736842  13.0        6.9      1.0           1.0   1.0  \n",
            "...         ...   ...        ...      ...           ...   ...  \n",
            "924    0.736842   4.0       16.9      1.0           1.0   1.0  \n",
            "1247   8.736842   9.0       10.9      1.0           1.0   1.0  \n",
            "271   13.736842  15.0        1.9      1.0           1.0   1.0  \n",
            "474    3.736842   8.0        4.9      0.0           0.0   1.0  \n",
            "1379   3.736842   3.0        3.9      0.0           1.0   0.0  \n",
            "\n",
            "[1600 rows x 20 columns]\n"
          ]
        }
      ]
    },
    {
      "cell_type": "code",
      "source": [
        "print(x_test)"
      ],
      "metadata": {
        "colab": {
          "base_uri": "https://localhost:8080/"
        },
        "id": "OHC_2CnEa0CT",
        "outputId": "d939b430-0989-4927-c140-22616aaf00fe"
      },
      "execution_count": 29,
      "outputs": [
        {
          "output_type": "stream",
          "name": "stdout",
          "text": [
            "      battery_power  blue  clock_speed  dual_sim    fc  four_g  int_memory  \\\n",
            "1556     373.749249   1.0     0.733333       1.0   1.0     1.0    40.96875   \n",
            "1560    1370.749249   0.0    -0.166667       0.0   5.0     1.0    23.96875   \n",
            "1559     169.749249   0.0     2.233333       0.0   7.0     1.0    -0.03125   \n",
            "1594      84.749249   1.0    -0.066667       0.0  16.0     1.0    39.96875   \n",
            "906     1481.749249   1.0     0.533333       1.0   6.0     1.0    24.96875   \n",
            "...             ...   ...          ...       ...   ...     ...         ...   \n",
            "959     1067.749249   0.0    -0.166667       1.0   3.0     0.0    30.96875   \n",
            "1939    1086.749249   1.0     1.833333       0.0  12.0     1.0     1.96875   \n",
            "668     1175.749249   0.0     1.133333       1.0   4.0     0.0     8.96875   \n",
            "534     1154.749249   1.0     0.933333       1.0   0.0     0.0    13.96875   \n",
            "1111    1233.749249   1.0     1.233333       1.0   0.0     1.0    56.96875   \n",
            "\n",
            "      m_dep  mobile_wt  n_cores    pc  px_height    px_width          ram  \\\n",
            "1556    0.4       23.6    6.875   3.0      902.0   468.74975  3139.935968   \n",
            "1560    0.3       91.6    2.875  10.0      672.0   587.74975  2016.935968   \n",
            "1559   -0.1       14.6    4.875  19.0      614.0  1116.74975  2021.935968   \n",
            "1594    0.1       40.6    5.875  17.0      785.0   617.74975  1612.935968   \n",
            "906     0.4       44.6   -0.125  11.0      370.0   696.74975  3640.935968   \n",
            "...     ...        ...      ...   ...        ...         ...          ...   \n",
            "959     0.0       66.6   -0.125  13.0      519.0   429.74975  3281.935968   \n",
            "1939    0.1       67.6    3.875  20.0      146.0   321.74975  2249.935968   \n",
            "668     0.5       43.6    4.875   8.0      271.0   976.74975  3514.935968   \n",
            "534     0.8       36.6    5.875   2.0      320.0   398.74975  2599.935968   \n",
            "1111    0.5       67.6    4.875   0.0      137.0   345.74975  2973.935968   \n",
            "\n",
            "           sc_h  sc_w  talk_time  three_g  touch_screen  wifi  \n",
            "1556   8.736842   2.0       15.9      1.0           0.0   0.0  \n",
            "1560   2.736842   4.0        5.9      1.0           0.0   1.0  \n",
            "1559   7.736842   4.0       -0.1      1.0           0.0   0.0  \n",
            "1594   6.736842   2.0        4.9      1.0           1.0   1.0  \n",
            "906    6.736842  10.0        7.9      1.0           1.0   1.0  \n",
            "...         ...   ...        ...      ...           ...   ...  \n",
            "959   12.736842   1.0       12.9      1.0           0.0   1.0  \n",
            "1939  -0.263158   3.0        8.9      1.0           0.0   0.0  \n",
            "668    9.736842   6.0        9.9      1.0           0.0   0.0  \n",
            "534    8.736842   3.0       17.9      1.0           1.0   1.0  \n",
            "1111   0.736842   1.0        6.9      1.0           1.0   0.0  \n",
            "\n",
            "[400 rows x 20 columns]\n"
          ]
        }
      ]
    },
    {
      "cell_type": "code",
      "source": [
        "print(y_train)"
      ],
      "metadata": {
        "colab": {
          "base_uri": "https://localhost:8080/"
        },
        "id": "m4LXbhxFa44J",
        "outputId": "4583b2f2-a866-414b-eb71-a40d545f540c"
      },
      "execution_count": 30,
      "outputs": [
        {
          "output_type": "stream",
          "name": "stdout",
          "text": [
            "1500    2\n",
            "451     1\n",
            "1627    3\n",
            "669     1\n",
            "1567    1\n",
            "       ..\n",
            "924     2\n",
            "1247    1\n",
            "271     0\n",
            "474     2\n",
            "1379    1\n",
            "Name: price_range, Length: 1600, dtype: int64\n"
          ]
        }
      ]
    },
    {
      "cell_type": "code",
      "source": [
        "print(y_test)"
      ],
      "metadata": {
        "colab": {
          "base_uri": "https://localhost:8080/"
        },
        "id": "IBZcqXe9a-IE",
        "outputId": "73be2d20-26c1-484b-dec7-005581533ed0"
      },
      "execution_count": 31,
      "outputs": [
        {
          "output_type": "stream",
          "name": "stdout",
          "text": [
            "1556    3\n",
            "1560    2\n",
            "1559    2\n",
            "1594    1\n",
            "906     3\n",
            "       ..\n",
            "959     3\n",
            "1939    2\n",
            "668     3\n",
            "534     2\n",
            "1111    3\n",
            "Name: price_range, Length: 400, dtype: int64\n"
          ]
        }
      ]
    }
  ]
}
