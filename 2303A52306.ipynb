{
  "nbformat": 4,
  "nbformat_minor": 0,
  "metadata": {
    "colab": {
      "provenance": [],
      "authorship_tag": "ABX9TyN0wqyjM2gI0MrDflJKQZJj",
      "include_colab_link": true
    },
    "kernelspec": {
      "name": "python3",
      "display_name": "Python 3"
    },
    "language_info": {
      "name": "python"
    }
  },
  "cells": [
    {
      "cell_type": "markdown",
      "metadata": {
        "id": "view-in-github",
        "colab_type": "text"
      },
      "source": [
        "<a href=\"https://colab.research.google.com/github/2303A52306/sml/blob/main/2303A52306.ipynb\" target=\"_parent\"><img src=\"https://colab.research.google.com/assets/colab-badge.svg\" alt=\"Open In Colab\"/></a>"
      ]
    },
    {
      "cell_type": "code",
      "execution_count": 2,
      "metadata": {
        "colab": {
          "base_uri": "https://localhost:8080/",
          "height": 472
        },
        "id": "z_IKnGfMNQb4",
        "outputId": "a4b84b27-42e1-4a01-cefc-dfc1e452a02d"
      },
      "outputs": [
        {
          "output_type": "display_data",
          "data": {
            "text/plain": [
              "<Figure size 640x480 with 1 Axes>"
            ],
            "image/png": "[encoded data removed]"
          },
          "metadata": {}
        }
      ],
      "source": [
        "import numpy as np\n",
        "import pandas as pa\n",
        "import matplotlib.pyplot as plt\n",
        "import scipy as stats\n",
        "x=[2.3,2.5,3.6,2.8,3.1,2.9,3.2,2.7,2.8,3.0];\n",
        "plt.hist(x,bins=5,alpha=0.7,color=\"blue\",density=\"true\")\n",
        "plt.title(\"histogram-question\");\n",
        "plt.ylabel(\"density\");\n",
        "plt.xlabel(\"values\");\n",
        "plt.show();"
      ]
    },
    {
      "cell_type": "code",
      "source": [
        "import numpy as np\n",
        "from scipy import stats\n",
        "x=[4,5,8,2,4,2,5]\n",
        "y=[5,6,3,8,3,7,8]\n",
        "\n",
        "print(\"Mean of x is:\",np.mean(x))\n",
        "print(\"Mean of y is:\",np.mean(y))\n",
        "print(\"Median of x is:\",np.median(x))\n",
        "print(\"Median of y is:\",np.median(y))\n",
        "print(stats.mode(x))\n",
        "print(stats.mode(y))\n",
        "print(\"variance of x is:\",np.var(x))\n",
        "print(\"variance of y is:\",np.var(y))\n",
        "print(\"standard deviation of x is:\",np.std(x))\n",
        "print(\"standard deviation of y is:\",np.std(y))\n",
        "print(\"range of x is\",np.ptp(x))\n",
        "print(\"range of y is\",np.ptp(y))\n",
        "print(\"inqurtile range of x is:\",stats.iqr(x))\n",
        "print(\"inqurtile range of y is:\",stats.iqr(y))\n",
        "print(\"skewness of x is:\",stats.skew(x))\n",
        "print(\"skewness of y is:\",stats.skew(y))\n",
        "print(\"kurtosis of x is:\",stats.kurtosis(x))\n",
        "print(\"kurtosis of y is:\",stats.kurtosis(y))\n",
        "\n",
        "\n"
      ],
      "metadata": {
        "colab": {
          "base_uri": "https://localhost:8080/"
        },
        "id": "gmBbralgPTvH",
        "outputId": "c1d36aba-04bd-46fd-f564-11abf0b33e84"
      },
      "execution_count": 6,
      "outputs": [
        {
          "output_type": "stream",
          "name": "stdout",
          "text": [
            "Mean of x is: 4.285714285714286\n",
            "Mean of y is: 5.714285714285714\n",
            "Median of x is: 4.0\n",
            "Median of y is: 6.0\n",
            "ModeResult(mode=2, count=2)\n",
            "ModeResult(mode=3, count=2)\n",
            "variance of x is: 3.6326530612244894\n",
            "variance of y is: 3.918367346938776\n",
            "standard deviation of x is: 1.9059520091609048\n",
            "standard deviation of y is: 1.979486637221574\n",
            "range of x is 6\n",
            "range of y is 5\n",
            "inqurtile range of x is: 2.0\n",
            "inqurtile range of y is: 3.5\n",
            "skewness of x is: 0.5785710902698393\n",
            "skewness of y is: -0.26386711521557127\n",
            "kurtosis of x is: -0.34282287589950755\n",
            "kurtosis of y is: -1.4541015625000002\n"
          ]
        }
      ]
    },
    {
      "cell_type": "code",
      "source": [],
      "metadata": {
        "id": "VnjTavueTQLs"
      },
      "execution_count": null,
      "outputs": []
    }
  ]
}